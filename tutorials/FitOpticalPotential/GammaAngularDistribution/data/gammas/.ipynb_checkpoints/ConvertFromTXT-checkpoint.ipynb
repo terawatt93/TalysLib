{
 "cells": [
  {
   "cell_type": "code",
   "execution_count": null,
   "id": "fc2f55c0-af3b-4b0a-8f3a-c18b51c6eb25",
   "metadata": {},
   "outputs": [],
   "source": [
    "import ROOT\n",
    "file=ROOT.TFile(\"CrossSection_c12_90perc_AngStep_5deg_fps_random.root\")\n",
    "Graph=file.Get(\"Cross_section_for_Gamma\")"
   ]
  }
 ],
 "metadata": {
  "kernelspec": {
   "display_name": "Python 3 (ipykernel)",
   "language": "python",
   "name": "python3"
  },
  "language_info": {
   "codemirror_mode": {
    "name": "ipython",
    "version": 3
   },
   "file_extension": ".py",
   "mimetype": "text/x-python",
   "name": "python",
   "nbconvert_exporter": "python",
   "pygments_lexer": "ipython3",
   "version": "3.10.12"
  }
 },
 "nbformat": 4,
 "nbformat_minor": 5
}
